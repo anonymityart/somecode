{
 "cells": [
  {
   "cell_type": "code",
   "execution_count": null,
   "id": "comic-hydrogen",
   "metadata": {},
   "outputs": [],
   "source": [
    "%matplotlib inline\n",
    "import numpy as np\n",
    "import os, sys\n",
    "import matplotlib.pyplot as plt\n",
    "from PIL import Image\n",
    "from pathlib import Path\n",
    "\n",
    "import cv2"
   ]
  },
  {
   "cell_type": "code",
   "execution_count": null,
   "id": "final-beverage",
   "metadata": {},
   "outputs": [],
   "source": [
    "img = cv2.imread('./test1.png')\n",
    "\n",
    "img.shape"
   ]
  },
  {
   "cell_type": "code",
   "execution_count": null,
   "id": "environmental-badge",
   "metadata": {},
   "outputs": [],
   "source": [
    "def npre(l):\n",
    "    \n",
    "    for idx in range(len(l)):\n",
    "        if not l[idx]:\n",
    "            prefix = idx\n",
    "            break\n",
    "    for idx in range(len(l)):\n",
    "        if not l[(-1) - idx]:\n",
    "            return prefix, len(l)-idx\n",
    "\n",
    "def ndiv(l, nd):\n",
    "    (x1, x2), (y1, y2) = l\n",
    "    nx, ny = nd\n",
    "    xstep = round((x2-x1) / nx)\n",
    "    ystep = round((y2-y1) / ny)\n",
    "    xl, yl = [], []\n",
    "    xpre = x1 - xstep\n",
    "    for ro in range(nx):\n",
    "#         print('xstep: ', xstep)\n",
    "        xpre = xpre + xstep\n",
    "        xl.append(xpre)\n",
    "#         print('actual step: ', (x2 - xl[ro]) / (nx -ro+1))\n",
    "        xstep =  round((x2 - xl[-1]) / (nx -ro))\n",
    "#     print('xstep ', x2 - xpre)\n",
    "    xl.append(x2)\n",
    "    ypre = y1 - ystep\n",
    "    for ro in range(ny):\n",
    "#         print('ystep: ', ystep)\n",
    "        ypre = ypre + ystep\n",
    "        yl.append(ypre)\n",
    "        ystep = round((y2 -yl[-1]) / (ny -ro))\n",
    "#     print(\"ystep \", y2-ypre)\n",
    "    yl.append(y2)\n",
    "    return xl, yl\n",
    "\n",
    "def genLine(xl,yl):\n",
    "    for x in xl:\n",
    "        yield (x, yl[0]), (x, yl[-1])\n",
    "    for y in yl:\n",
    "        yield (xl[0], y), (xl[-1], y)\n",
    "\n",
    "def genRect(xl, yl):\n",
    "    ydim = []\n",
    "    for yidx in range(len(yl)-1):\n",
    "        xdim = []\n",
    "        for xidx in range(len(xl)-1):\n",
    "            rect = np.array((xl[xidx], yl[yidx], xl[xidx+1], yl[yidx+1]))  #x1, y1, x2, y2\n",
    "            x_step = (xl[xidx+1] - xl[xidx]) // 2\n",
    "            y_step = (yl[yidx+1] - yl[yidx]) // 2\n",
    "            across_rect = rect + np.array((x_step, 0, x_step, 0))\n",
    "            y_across_rect = rect + np.array((0, y_step, 0, y_step))\n",
    "            twi_across_rect = rect + np.array((x_step, y_step, x_step, y_step))\n",
    "            xdim.append(np.array((rect, across_rect, y_across_rect, twi_across_rect)))\n",
    "        ydim.append(xdim)\n",
    "    return np.array(ydim)\n",
    "\n",
    "def getColor(l):\n",
    "    c = len(l)\n",
    "    while True:\n",
    "        c-=1\n",
    "        yield l[c]\n",
    "        if c == 0:\n",
    "            c = len(l)\n",
    "        \n",
    "def showAnchor(i, c):\n",
    "    bx,by,tx,ty=i\n",
    "    x = [bx, bx, tx, tx, bx]\n",
    "    y = [by, ty, ty, by, by]\n",
    "    plt.plot(x, y, color=c)\n",
    "    \n",
    "def showAnchors(i, colors=['r', 'g', 'b']):\n",
    "    cl = getColor(colors)\n",
    "    cl = iter(cl)\n",
    "    for item in i:\n",
    "        showAnchor(item, next(cl))\n",
    "\n",
    "def rect2mask(rects, size):\n",
    "    mask = np.zeros(size, dtype=np.uint8)\n",
    "    for rect in rects:\n",
    "        bx,by,tx,ty=rect\n",
    "        x = [bx, bx, tx, tx, bx]\n",
    "        y = [by, ty, ty, by, by]\n",
    "        poly = np.array([x, y], dtype=np.int32).T\n",
    "        cv2.fillPoly(mask, [poly], (255,), 8, 0)\n",
    "    return mask\n",
    "\n",
    "def has_and(rect, img):\n",
    "    x1, y1, x2, y2 = rect\n",
    "    assert x1 < x2 and y1 < y2\n",
    "    return img[y1:y2, x1:x2].max() > 0\n",
    "\n",
    "def get_mask(size, rects, polys):\n",
    "    poly_mask = np.zeros(size, dtype=np.uint8)\n",
    "    for pidx in range(len(polys)-1):\n",
    "        cv2.line(poly_mask, polys[pidx], polys[pidx+1], (255, ), thickness=7)\n",
    "    rects_shape = rects.shape\n",
    "    assert len(rects_shape) == 3\n",
    "    rects = np.vstack(rects)\n",
    "    mask = [has_and(r, poly_mask) for r in list(rects)]\n",
    "    mask = np.array(mask)\n",
    "    return mask.reshape(*(rects_shape[:2])), poly_mask\n",
    "        "
   ]
  },
  {
   "cell_type": "code",
   "execution_count": null,
   "id": "existing-monday",
   "metadata": {},
   "outputs": [],
   "source": [
    "hand = (79, 161), (36, 234), (105, 241), (128, 237)\n",
    "person = (142, 106), (145, 120), (126, 133), (97, 126), (126,178), (145, 170)\n",
    "print(hand, person)"
   ]
  },
  {
   "cell_type": "code",
   "execution_count": null,
   "id": "pursuant-dylan",
   "metadata": {},
   "outputs": [],
   "source": [
    "hand, person = np.array(hand).T, np.array(person).T\n"
   ]
  },
  {
   "cell_type": "code",
   "execution_count": null,
   "id": "vulnerable-coffee",
   "metadata": {},
   "outputs": [],
   "source": [
    "h = img.transpose(2, 0, 1).min(axis=0).min(axis=0) == 255\n",
    "w = img.transpose(2, 0, 1).min(axis=0).min(axis=1) == 255\n",
    "(x1, x2), (y1, y2) = npre(h), npre(w)\n",
    "xl,yl= ndiv((npre(h), npre(w)),(5, 5))\n",
    "print(h.shape, w.shape, npre(h), npre(w))\n",
    "print(xl,'\\n', yl)"
   ]
  },
  {
   "cell_type": "code",
   "execution_count": null,
   "id": "optional-particle",
   "metadata": {},
   "outputs": [],
   "source": [
    "rects =  genRect(xl, yl)\n",
    "rects, across_rects, y_across_rects, twi_across_rects = rects[:,:,0,:], rects[:,:,1,:], rects[:,:,2,:], rects[:,:,3,:]\n",
    "rect_mask, _ = get_mask((354, 230), rects, hand)\n",
    "rect_mask = np.array([rect_mask])\n",
    "print(rect_mask)\n",
    "rect_mask =  rect_mask.repeat(4, axis=0)\n",
    "rect_mask = rect_mask.transpose(1, 2, 0)\n",
    "print(rect_mask.shape)"
   ]
  },
  {
   "cell_type": "code",
   "execution_count": null,
   "id": "serial-recruitment",
   "metadata": {},
   "outputs": [],
   "source": [
    "rect_mask[...] = True\n",
    "rect_mask"
   ]
  },
  {
   "cell_type": "code",
   "execution_count": null,
   "id": "superior-pixel",
   "metadata": {
    "scrolled": false
   },
   "outputs": [],
   "source": [
    "print(rects.shape)\n",
    "rect_list = np.where(rect_mask, rects, 0)\n",
    "rect_list = np.vstack(rect_list)\n",
    "\n",
    "across_rects_list, y_across_rects_list, twi_across_rects_list = np.where(rect_mask, across_rects, 0), np.where(rect_mask, y_across_rects, 0), np.where(rect_mask, twi_across_rects, 0)\n",
    "across_rects_list, y_across_rects_list, twi_across_rects_list = across_rects_list[:, :-1], y_across_rects_list[:-1, :], twi_across_rects_list[:-1, :-1]\n",
    "across_rects_list, y_across_rects_list, twi_across_rects_list = np.vstack(across_rects_list), np.vstack(y_across_rects_list), np.vstack(twi_across_rects_list)\n",
    "print(rect_list.shape)\n",
    "plt.imshow(cv2.cvtColor(img, cv2.COLOR_BGR2RGB))\n",
    "showAnchors(rect_list)\n",
    "showAnchors(across_rects_list, ['r'])\n",
    "showAnchors(y_across_rects_list, ['b'])\n",
    "showAnchors(twi_across_rects_list, ['g'])\n",
    "# plt.plot(hand[0], hand[1], color='g')\n",
    "# plt.plot(person[0], person[1], color='g')\n",
    "plt.show()"
   ]
  },
  {
   "cell_type": "code",
   "execution_count": null,
   "id": "tough-pilot",
   "metadata": {},
   "outputs": [],
   "source": [
    "imgm = rect2mask(rect_list, (354, 230))\n",
    "out = cv2.bitwise_and(img, np.array([imgm, imgm, imgm]).transpose(1, 2,0)) # img, mask=imgm)\n",
    "plt.imshow(cv2.cvtColor(out, cv2.COLOR_BGR2RGB))\n",
    "plt.show()"
   ]
  },
  {
   "cell_type": "code",
   "execution_count": null,
   "id": "distributed-broadcast",
   "metadata": {},
   "outputs": [],
   "source": [
    "grid = list(genLine(xl, yl))\n",
    "print(xl, yl)\n",
    "# cv2.rectangle(img, pt1=(x1, y2), pt2=(x2, y1), color=(255, 0, 0), thickness=1 )\n",
    "# for g in grid:\n",
    "#     cv2.line(img, *g, color=(0, 255, 0), thickness=1 )\n",
    "for g in grid:\n",
    "    (x1, y1), (x2, y2) = g\n",
    "    plt.plot([x1, x2], [y1, y2], color='g')\n",
    "plt.imshow(cv2.cvtColor(img, cv2.COLOR_BGR2RGB))\n",
    "plt.show()"
   ]
  },
  {
   "cell_type": "code",
   "execution_count": null,
   "id": "global-pressing",
   "metadata": {},
   "outputs": [],
   "source": [
    "test_rects =  genRect(xl, yl)\n",
    "i1, polyimg = get_mask((354, 230), test_rects, hand)\n",
    "plt.subplot(121)\n",
    "showAnchors(np.vstack(rects))\n",
    "plt.imshow(polyimg)\n",
    "plt.subplot(122)\n",
    "plt.imshow(i1)\n",
    "plt.show()"
   ]
  },
  {
   "cell_type": "code",
   "execution_count": null,
   "id": "partial-conversion",
   "metadata": {},
   "outputs": [],
   "source": []
  }
 ],
 "metadata": {
  "kernelspec": {
   "display_name": "Python 3",
   "language": "python",
   "name": "python3"
  },
  "language_info": {
   "codemirror_mode": {
    "name": "ipython",
    "version": 3
   },
   "file_extension": ".py",
   "mimetype": "text/x-python",
   "name": "python",
   "nbconvert_exporter": "python",
   "pygments_lexer": "ipython3",
   "version": "3.6.13"
  }
 },
 "nbformat": 4,
 "nbformat_minor": 5
}
